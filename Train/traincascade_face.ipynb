{
  "nbformat": 4,
  "nbformat_minor": 0,
  "metadata": {
    "colab": {
      "name": "traincascade_face.ipynb",
      "provenance": [],
      "collapsed_sections": []
    },
    "kernelspec": {
      "name": "python3",
      "display_name": "Python 3"
    },
    "language_info": {
      "name": "python"
    }
  },
  "cells": [
    {
      "cell_type": "code",
      "metadata": {
        "colab": {
          "base_uri": "https://localhost:8080/"
        },
        "id": "mEQCOzL768yw",
        "outputId": "ac2e3c0c-a42b-420b-db13-1a7674045db7"
      },
      "source": [
        "# ! cd drive/MyDrive/dataset/face; #wget \"http://mmlab.ie.cuhk.edu.hk/archive/CNN/data/train.zip\";  # unzip train.zip\n",
        "# ! cd drive/MyDrive/dataset/face; rm iFakeFaceDB.zip; #wget \"http://socia-lab.di.ubi.pt/~jcneves/iFakeFaceDB.zip\"\n",
        "# ! ls drive/MyDrive/dataset/face/lfw_5590 | wc\n",
        "! ls drive/MyDrive/dataset/face/myface |wc\n",
        "# ! rm -r data"
      ],
      "execution_count": 2,
      "outputs": [
        {
          "output_type": "stream",
          "name": "stdout",
          "text": [
            "      0       0       0\n"
          ]
        }
      ]
    },
    {
      "cell_type": "code",
      "metadata": {
        "id": "b7017WNt7NIQ"
      },
      "source": [
        "import os\n",
        "import cv2 as cv\n",
        "import numpy as np\n",
        "from skimage.io import imread, imshow"
      ],
      "execution_count": 1,
      "outputs": []
    },
    {
      "cell_type": "code",
      "metadata": {
        "id": "mOVl5q-j72NV"
      },
      "source": [
        "def remove_noise(folder, folder2, size):\n",
        "  list_file= os.listdir(folder)\n",
        "  for filename in list_file[0:size]:\n",
        "    img= cv.imread(os.path.join(folder,filename), 0)\n",
        "    img= cv.resize(img, (100, 100))\n",
        "    img= cv.GaussianBlur(img, (5,5), 0.5)\n",
        "    cv.imwrite(folder2+filename, img)"
      ],
      "execution_count": 3,
      "outputs": []
    },
    {
      "cell_type": "code",
      "metadata": {
        "id": "Tz5vQR-G75Bm"
      },
      "source": [
        "remove_noise(\"drive/MyDrive/dataset/face/CelebAGaze/0/\", \"drive/MyDrive/dataset/face/myface/\", 1000)"
      ],
      "execution_count": 4,
      "outputs": []
    },
    {
      "cell_type": "code",
      "metadata": {
        "id": "2Y3vSECr75ZT"
      },
      "source": [
        "def GenerationInfo(folder, state ,size, w, h, filename):\n",
        "\tfiles_name= os.listdir(folder)[0:size]\n",
        "\ttext2=\"\\n\"\n",
        "\tif state: text2=\" 1 0 0 \"+str(w)+\" \"+str(h)+\"\\n\"\n",
        "\n",
        "\ttext=\"\"\n",
        "\tfor fn in files_name:\n",
        "\t\ttext+= folder+fn+text2\n",
        "\n",
        "\tf = open(filename, \"w\")\n",
        "\tf.write(text)\n",
        "\tf.close()"
      ],
      "execution_count": 5,
      "outputs": []
    },
    {
      "cell_type": "code",
      "metadata": {
        "id": "nG_VP9eP75br"
      },
      "source": [
        "folder1=\"drive/MyDrive/dataset/face/myface/\"\n",
        "folder2=\"drive/MyDrive/dataset/Dataset2/car/cars_train/\"\n",
        "GenerationInfo(folder1, True, 1000, 100, 100, \"face.info\" )\n",
        "GenerationInfo(folder2, False, 1000, 0, 0, \"bg.info\")"
      ],
      "execution_count": 6,
      "outputs": []
    },
    {
      "cell_type": "code",
      "metadata": {
        "colab": {
          "base_uri": "https://localhost:8080/"
        },
        "id": "t-fGOcSJ75eT",
        "outputId": "ae4e5533-32e2-4a5d-e8af-ca6267b0dc06"
      },
      "source": [
        "! opencv_createsamples -info face.info -num 550 -w 100 -h 100 -vec face.vec"
      ],
      "execution_count": 7,
      "outputs": [
        {
          "output_type": "stream",
          "name": "stdout",
          "text": [
            "Info file name: face.info\n",
            "Img file name: (NULL)\n",
            "Vec file name: face.vec\n",
            "BG  file name: (NULL)\n",
            "Num: 550\n",
            "BG color: 0\n",
            "BG threshold: 80\n",
            "Invert: FALSE\n",
            "Max intensity deviation: 40\n",
            "Max x angle: 1.1\n",
            "Max y angle: 1.1\n",
            "Max z angle: 0.5\n",
            "Show samples: FALSE\n",
            "Width: 100\n",
            "Height: 100\n",
            "Max Scale: -1\n",
            "Create training samples from images collection...\n",
            "Done. Created 550 samples\n"
          ]
        }
      ]
    },
    {
      "cell_type": "code",
      "metadata": {
        "colab": {
          "base_uri": "https://localhost:8080/"
        },
        "id": "bhKAG-SC75hJ",
        "outputId": "c73cdc3e-72c6-4076-a224-e9bfc50b520f"
      },
      "source": [
        "! opencv_traincascade -data data -vec face.vec -bg bg.info -numPos 500 -numNeg 500 -numStages 10 -w 100 -h 100 -featureType LBP"
      ],
      "execution_count": 8,
      "outputs": [
        {
          "output_type": "stream",
          "name": "stdout",
          "text": [
            "PARAMETERS:\n",
            "cascadeDirName: data\n",
            "vecFileName: face.vec\n",
            "bgFileName: bg.info\n",
            "numPos: 500\n",
            "numNeg: 500\n",
            "numStages: 10\n",
            "precalcValBufSize[Mb] : 1024\n",
            "precalcIdxBufSize[Mb] : 1024\n",
            "acceptanceRatioBreakValue : -1\n",
            "stageType: BOOST\n",
            "featureType: LBP\n",
            "sampleWidth: 100\n",
            "sampleHeight: 100\n",
            "boostType: GAB\n",
            "minHitRate: 0.995\n",
            "maxFalseAlarmRate: 0.5\n",
            "weightTrimRate: 0.95\n",
            "maxDepth: 1\n",
            "maxWeakCount: 100\n",
            "Number of unique features given windowSize [100,100] : 2722500\n",
            "\n",
            "===== TRAINING 0-stage =====\n",
            "<BEGIN\n",
            "POS count : consumed   500 : 500\n",
            "NEG count : acceptanceRatio    500 : 1\n",
            "tcmalloc: large alloc 1073741824 bytes == 0x564c275b6000 @  0x7fdf835921e7 0x7fdf8278c382 0x7fdf8288b21b 0x564bfbbc0608 0x564bfbbc0d42 0x564bfbbc0e1a 0x564bfbbca1a9 0x564bfbbb6fff 0x7fdf81a4fbf7 0x564bfbbb7c1a\n",
            "Precalculation time: 25\n",
            "+----+---------+---------+\n",
            "|  N |    HR   |    FA   |\n",
            "+----+---------+---------+\n",
            "|   1|        1|        1|\n",
            "+----+---------+---------+\n",
            "|   2|        1|        1|\n",
            "+----+---------+---------+\n",
            "|   3|    0.998|    0.184|\n",
            "+----+---------+---------+\n",
            "END>\n",
            "Training until now has taken 0 days 0 hours 22 minutes 27 seconds.\n",
            "\n",
            "===== TRAINING 1-stage =====\n",
            "<BEGIN\n",
            "POS count : consumed   500 : 501\n",
            "NEG count : acceptanceRatio    500 : 0.352858\n",
            "Precalculation time: 27\n",
            "+----+---------+---------+\n",
            "|  N |    HR   |    FA   |\n",
            "+----+---------+---------+\n",
            "|   1|        1|        1|\n",
            "+----+---------+---------+\n",
            "|   2|        1|        1|\n",
            "+----+---------+---------+\n",
            "|   3|        1|    0.372|\n",
            "+----+---------+---------+\n",
            "END>\n",
            "Training until now has taken 0 days 0 hours 45 minutes 25 seconds.\n",
            "\n",
            "===== TRAINING 2-stage =====\n",
            "<BEGIN\n",
            "POS count : consumed   500 : 501\n",
            "NEG count : acceptanceRatio    500 : 0.188253\n",
            "Precalculation time: 26\n",
            "+----+---------+---------+\n",
            "|  N |    HR   |    FA   |\n",
            "+----+---------+---------+\n",
            "|   1|        1|        1|\n",
            "+----+---------+---------+\n",
            "|   2|        1|    0.232|\n",
            "+----+---------+---------+\n",
            "END>\n",
            "Training until now has taken 0 days 1 hours 0 minutes 56 seconds.\n",
            "\n",
            "===== TRAINING 3-stage =====\n",
            "<BEGIN\n",
            "POS count : consumed   500 : 501\n",
            "NEG count : acceptanceRatio    500 : 0.0856751\n",
            "Precalculation time: 26\n",
            "+----+---------+---------+\n",
            "|  N |    HR   |    FA   |\n",
            "+----+---------+---------+\n",
            "|   1|        1|        1|\n",
            "+----+---------+---------+\n",
            "|   2|        1|        1|\n",
            "+----+---------+---------+\n",
            "|   3|    0.996|    0.318|\n",
            "+----+---------+---------+\n",
            "END>\n",
            "Training until now has taken 0 days 1 hours 24 minutes 15 seconds.\n",
            "\n",
            "===== TRAINING 4-stage =====\n",
            "<BEGIN\n",
            "POS count : consumed   500 : 503\n",
            "NEG count : acceptanceRatio    500 : 0.054019\n",
            "Precalculation time: 25\n",
            "+----+---------+---------+\n",
            "|  N |    HR   |    FA   |\n",
            "+----+---------+---------+\n",
            "|   1|        1|        1|\n",
            "+----+---------+---------+\n",
            "|   2|        1|        1|\n",
            "+----+---------+---------+\n",
            "|   3|        1|    0.332|\n",
            "+----+---------+---------+\n",
            "END>\n",
            "Training until now has taken 0 days 1 hours 48 minutes 1 seconds.\n",
            "\n",
            "===== TRAINING 5-stage =====\n",
            "<BEGIN\n",
            "POS count : consumed   500 : 503\n",
            "NEG count : acceptanceRatio    500 : 0.0309349\n",
            "Precalculation time: 25\n",
            "+----+---------+---------+\n",
            "|  N |    HR   |    FA   |\n",
            "+----+---------+---------+\n",
            "|   1|        1|        1|\n",
            "+----+---------+---------+\n",
            "|   2|        1|        1|\n",
            "+----+---------+---------+\n",
            "|   3|        1|     0.49|\n",
            "+----+---------+---------+\n",
            "END>\n",
            "Training until now has taken 0 days 2 hours 11 minutes 1 seconds.\n",
            "\n",
            "===== TRAINING 6-stage =====\n",
            "<BEGIN\n",
            "POS count : consumed   500 : 503\n",
            "NEG count : acceptanceRatio    500 : 0.0153214\n",
            "Precalculation time: 24\n",
            "+----+---------+---------+\n",
            "|  N |    HR   |    FA   |\n",
            "+----+---------+---------+\n",
            "|   1|        1|        1|\n",
            "+----+---------+---------+\n",
            "|   2|        1|        1|\n",
            "+----+---------+---------+\n",
            "|   3|        1|    0.454|\n",
            "+----+---------+---------+\n",
            "END>\n",
            "Training until now has taken 0 days 2 hours 34 minutes 8 seconds.\n",
            "\n",
            "===== TRAINING 7-stage =====\n",
            "<BEGIN\n",
            "POS count : consumed   500 : 503\n",
            "NEG count : acceptanceRatio    500 : 0.0127953\n",
            "Precalculation time: 25\n",
            "+----+---------+---------+\n",
            "|  N |    HR   |    FA   |\n",
            "+----+---------+---------+\n",
            "|   1|        1|        1|\n",
            "+----+---------+---------+\n",
            "|   2|        1|        1|\n",
            "+----+---------+---------+\n",
            "|   3|        1|    0.476|\n",
            "+----+---------+---------+\n",
            "END>\n",
            "Training until now has taken 0 days 2 hours 57 minutes 24 seconds.\n",
            "\n",
            "===== TRAINING 8-stage =====\n",
            "<BEGIN\n",
            "POS count : consumed   500 : 503\n",
            "NEG count : acceptanceRatio    500 : 0.00800602\n",
            "Precalculation time: 26\n",
            "+----+---------+---------+\n",
            "|  N |    HR   |    FA   |\n",
            "+----+---------+---------+\n",
            "|   1|        1|        1|\n",
            "+----+---------+---------+\n",
            "|   2|        1|        1|\n",
            "+----+---------+---------+\n",
            "|   3|        1|    0.466|\n",
            "+----+---------+---------+\n",
            "END>\n",
            "Training until now has taken 0 days 3 hours 20 minutes 45 seconds.\n",
            "\n",
            "===== TRAINING 9-stage =====\n",
            "<BEGIN\n",
            "POS count : consumed   500 : 503\n",
            "NEG count : acceptanceRatio    500 : 0.00592677\n",
            "Precalculation time: 27\n",
            "+----+---------+---------+\n",
            "|  N |    HR   |    FA   |\n",
            "+----+---------+---------+\n",
            "|   1|        1|        1|\n",
            "+----+---------+---------+\n",
            "|   2|        1|        1|\n",
            "+----+---------+---------+\n",
            "|   3|        1|    0.498|\n",
            "+----+---------+---------+\n",
            "END>\n",
            "Training until now has taken 0 days 3 hours 44 minutes 20 seconds.\n"
          ]
        }
      ]
    }
  ]
}